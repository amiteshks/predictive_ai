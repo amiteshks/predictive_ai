{
 "cells": [
  {
   "cell_type": "markdown",
   "id": "e56610bb",
   "metadata": {},
   "source": [
    "## Linear Regression on Diabetes Data / Diabetes Prediction"
   ]
  },
  {
   "cell_type": "markdown",
   "id": "8e90509b",
   "metadata": {},
   "source": []
  },
  {
   "cell_type": "code",
   "execution_count": null,
   "id": "3e48bf5d",
   "metadata": {},
   "outputs": [],
   "source": [
    "pip install scikit-learn"
   ]
  },
  {
   "cell_type": "code",
   "execution_count": 3,
   "id": "ebebc6fb",
   "metadata": {},
   "outputs": [],
   "source": [
    "import pandas as pd"
   ]
  },
  {
   "cell_type": "code",
   "execution_count": 5,
   "id": "11465f91",
   "metadata": {},
   "outputs": [],
   "source": [
    "from sklearn.datasets import load_diabetes\n",
    "diabetes = load_diabetes()\n",
    "\n",
    "df = pd.DataFrame(data=diabetes.data, columns=diabetes.feature_names)"
   ]
  },
  {
   "cell_type": "code",
   "execution_count": null,
   "id": "9c887815",
   "metadata": {},
   "outputs": [],
   "source": [
    "df"
   ]
  },
  {
   "cell_type": "code",
   "execution_count": null,
   "id": "1922753c",
   "metadata": {},
   "outputs": [],
   "source": [
    "df.info()"
   ]
  },
  {
   "cell_type": "code",
   "execution_count": null,
   "id": "3a761bc5",
   "metadata": {},
   "outputs": [],
   "source": [
    "df.describe()"
   ]
  },
  {
   "cell_type": "code",
   "execution_count": null,
   "id": "5f1a807d",
   "metadata": {},
   "outputs": [],
   "source": [
    "df.corr()"
   ]
  },
  {
   "cell_type": "code",
   "execution_count": 18,
   "id": "7bf01ff0",
   "metadata": {},
   "outputs": [
    {
     "data": {
      "text/plain": [
       "(          age       sex       bmi        bp        s1        s2        s3  \\\n",
       " 0    0.038076  0.050680  0.061696  0.021872 -0.044223 -0.034821 -0.043401   \n",
       " 1   -0.001882 -0.044642 -0.051474 -0.026328 -0.008449 -0.019163  0.074412   \n",
       " 2    0.085299  0.050680  0.044451 -0.005670 -0.045599 -0.034194 -0.032356   \n",
       " 3   -0.089063 -0.044642 -0.011595 -0.036656  0.012191  0.024991 -0.036038   \n",
       " 4    0.005383 -0.044642 -0.036385  0.021872  0.003935  0.015596  0.008142   \n",
       " ..        ...       ...       ...       ...       ...       ...       ...   \n",
       " 437  0.041708  0.050680  0.019662  0.059744 -0.005697 -0.002566 -0.028674   \n",
       " 438 -0.005515  0.050680 -0.015906 -0.067642  0.049341  0.079165 -0.028674   \n",
       " 439  0.041708  0.050680 -0.015906  0.017293 -0.037344 -0.013840 -0.024993   \n",
       " 440 -0.045472 -0.044642  0.039062  0.001215  0.016318  0.015283 -0.028674   \n",
       " 441 -0.045472 -0.044642 -0.073030 -0.081413  0.083740  0.027809  0.173816   \n",
       " \n",
       "            s4        s5  \n",
       " 0   -0.002592  0.019907  \n",
       " 1   -0.039493 -0.068332  \n",
       " 2   -0.002592  0.002861  \n",
       " 3    0.034309  0.022688  \n",
       " 4   -0.002592 -0.031988  \n",
       " ..        ...       ...  \n",
       " 437 -0.002592  0.031193  \n",
       " 438  0.034309 -0.018114  \n",
       " 439 -0.011080 -0.046883  \n",
       " 440  0.026560  0.044529  \n",
       " 441 -0.039493 -0.004222  \n",
       " \n",
       " [442 rows x 9 columns],\n",
       " 0     -0.017646\n",
       " 1     -0.092204\n",
       " 2     -0.025930\n",
       " 3     -0.009362\n",
       " 4     -0.046641\n",
       "          ...   \n",
       " 437    0.007207\n",
       " 438    0.044485\n",
       " 439    0.015491\n",
       " 440   -0.025930\n",
       " 441    0.003064\n",
       " Name: s6, Length: 442, dtype: float64)"
      ]
     },
     "execution_count": 18,
     "metadata": {},
     "output_type": "execute_result"
    }
   ],
   "source": [
    "X = df.drop(columns='s6')\n",
    "y = df['s6']\n",
    "\n",
    "X,y"
   ]
  },
  {
   "cell_type": "code",
   "execution_count": 25,
   "id": "50e63c9f",
   "metadata": {},
   "outputs": [
    {
     "data": {
      "text/html": [
       "<div>\n",
       "<style scoped>\n",
       "    .dataframe tbody tr th:only-of-type {\n",
       "        vertical-align: middle;\n",
       "    }\n",
       "\n",
       "    .dataframe tbody tr th {\n",
       "        vertical-align: top;\n",
       "    }\n",
       "\n",
       "    .dataframe thead th {\n",
       "        text-align: right;\n",
       "    }\n",
       "</style>\n",
       "<table border=\"1\" class=\"dataframe\">\n",
       "  <thead>\n",
       "    <tr style=\"text-align: right;\">\n",
       "      <th></th>\n",
       "      <th>age</th>\n",
       "      <th>sex</th>\n",
       "      <th>bmi</th>\n",
       "      <th>bp</th>\n",
       "      <th>s1</th>\n",
       "      <th>s2</th>\n",
       "      <th>s3</th>\n",
       "      <th>s4</th>\n",
       "      <th>s5</th>\n",
       "    </tr>\n",
       "  </thead>\n",
       "  <tbody>\n",
       "    <tr>\n",
       "      <th>169</th>\n",
       "      <td>-0.001882</td>\n",
       "      <td>-0.044642</td>\n",
       "      <td>-0.026684</td>\n",
       "      <td>0.049415</td>\n",
       "      <td>0.058973</td>\n",
       "      <td>-0.016032</td>\n",
       "      <td>-0.047082</td>\n",
       "      <td>0.071210</td>\n",
       "      <td>0.133597</td>\n",
       "    </tr>\n",
       "    <tr>\n",
       "      <th>125</th>\n",
       "      <td>-0.005515</td>\n",
       "      <td>0.050680</td>\n",
       "      <td>-0.008362</td>\n",
       "      <td>-0.002228</td>\n",
       "      <td>-0.033216</td>\n",
       "      <td>-0.063630</td>\n",
       "      <td>-0.036038</td>\n",
       "      <td>-0.002592</td>\n",
       "      <td>0.080590</td>\n",
       "    </tr>\n",
       "    <tr>\n",
       "      <th>216</th>\n",
       "      <td>0.012648</td>\n",
       "      <td>0.050680</td>\n",
       "      <td>0.035829</td>\n",
       "      <td>0.049415</td>\n",
       "      <td>0.053469</td>\n",
       "      <td>0.074155</td>\n",
       "      <td>-0.069172</td>\n",
       "      <td>0.145012</td>\n",
       "      <td>0.045604</td>\n",
       "    </tr>\n",
       "    <tr>\n",
       "      <th>264</th>\n",
       "      <td>0.034443</td>\n",
       "      <td>0.050680</td>\n",
       "      <td>0.028284</td>\n",
       "      <td>-0.033213</td>\n",
       "      <td>-0.045599</td>\n",
       "      <td>-0.009769</td>\n",
       "      <td>-0.050764</td>\n",
       "      <td>-0.002592</td>\n",
       "      <td>-0.059471</td>\n",
       "    </tr>\n",
       "    <tr>\n",
       "      <th>441</th>\n",
       "      <td>-0.045472</td>\n",
       "      <td>-0.044642</td>\n",
       "      <td>-0.073030</td>\n",
       "      <td>-0.081413</td>\n",
       "      <td>0.083740</td>\n",
       "      <td>0.027809</td>\n",
       "      <td>0.173816</td>\n",
       "      <td>-0.039493</td>\n",
       "      <td>-0.004222</td>\n",
       "    </tr>\n",
       "    <tr>\n",
       "      <th>...</th>\n",
       "      <td>...</td>\n",
       "      <td>...</td>\n",
       "      <td>...</td>\n",
       "      <td>...</td>\n",
       "      <td>...</td>\n",
       "      <td>...</td>\n",
       "      <td>...</td>\n",
       "      <td>...</td>\n",
       "      <td>...</td>\n",
       "    </tr>\n",
       "    <tr>\n",
       "      <th>187</th>\n",
       "      <td>-0.067268</td>\n",
       "      <td>-0.044642</td>\n",
       "      <td>-0.054707</td>\n",
       "      <td>-0.026328</td>\n",
       "      <td>-0.075870</td>\n",
       "      <td>-0.082106</td>\n",
       "      <td>0.048640</td>\n",
       "      <td>-0.076395</td>\n",
       "      <td>-0.086827</td>\n",
       "    </tr>\n",
       "    <tr>\n",
       "      <th>282</th>\n",
       "      <td>0.070769</td>\n",
       "      <td>-0.044642</td>\n",
       "      <td>-0.005128</td>\n",
       "      <td>-0.005670</td>\n",
       "      <td>0.087868</td>\n",
       "      <td>0.102965</td>\n",
       "      <td>0.011824</td>\n",
       "      <td>0.034309</td>\n",
       "      <td>-0.008943</td>\n",
       "    </tr>\n",
       "    <tr>\n",
       "      <th>305</th>\n",
       "      <td>-0.009147</td>\n",
       "      <td>0.050680</td>\n",
       "      <td>-0.039618</td>\n",
       "      <td>-0.040099</td>\n",
       "      <td>-0.008449</td>\n",
       "      <td>0.016222</td>\n",
       "      <td>-0.065491</td>\n",
       "      <td>0.071210</td>\n",
       "      <td>0.017765</td>\n",
       "    </tr>\n",
       "    <tr>\n",
       "      <th>183</th>\n",
       "      <td>0.045341</td>\n",
       "      <td>0.050680</td>\n",
       "      <td>-0.035307</td>\n",
       "      <td>0.063187</td>\n",
       "      <td>-0.004321</td>\n",
       "      <td>-0.001627</td>\n",
       "      <td>-0.010266</td>\n",
       "      <td>-0.002592</td>\n",
       "      <td>0.015568</td>\n",
       "    </tr>\n",
       "    <tr>\n",
       "      <th>191</th>\n",
       "      <td>-0.005515</td>\n",
       "      <td>0.050680</td>\n",
       "      <td>-0.041774</td>\n",
       "      <td>-0.043542</td>\n",
       "      <td>-0.079998</td>\n",
       "      <td>-0.076156</td>\n",
       "      <td>-0.032356</td>\n",
       "      <td>-0.039493</td>\n",
       "      <td>0.010227</td>\n",
       "    </tr>\n",
       "  </tbody>\n",
       "</table>\n",
       "<p>353 rows × 9 columns</p>\n",
       "</div>"
      ],
      "text/plain": [
       "          age       sex       bmi        bp        s1        s2        s3  \\\n",
       "169 -0.001882 -0.044642 -0.026684  0.049415  0.058973 -0.016032 -0.047082   \n",
       "125 -0.005515  0.050680 -0.008362 -0.002228 -0.033216 -0.063630 -0.036038   \n",
       "216  0.012648  0.050680  0.035829  0.049415  0.053469  0.074155 -0.069172   \n",
       "264  0.034443  0.050680  0.028284 -0.033213 -0.045599 -0.009769 -0.050764   \n",
       "441 -0.045472 -0.044642 -0.073030 -0.081413  0.083740  0.027809  0.173816   \n",
       "..        ...       ...       ...       ...       ...       ...       ...   \n",
       "187 -0.067268 -0.044642 -0.054707 -0.026328 -0.075870 -0.082106  0.048640   \n",
       "282  0.070769 -0.044642 -0.005128 -0.005670  0.087868  0.102965  0.011824   \n",
       "305 -0.009147  0.050680 -0.039618 -0.040099 -0.008449  0.016222 -0.065491   \n",
       "183  0.045341  0.050680 -0.035307  0.063187 -0.004321 -0.001627 -0.010266   \n",
       "191 -0.005515  0.050680 -0.041774 -0.043542 -0.079998 -0.076156 -0.032356   \n",
       "\n",
       "           s4        s5  \n",
       "169  0.071210  0.133597  \n",
       "125 -0.002592  0.080590  \n",
       "216  0.145012  0.045604  \n",
       "264 -0.002592 -0.059471  \n",
       "441 -0.039493 -0.004222  \n",
       "..        ...       ...  \n",
       "187 -0.076395 -0.086827  \n",
       "282  0.034309 -0.008943  \n",
       "305  0.071210  0.017765  \n",
       "183 -0.002592  0.015568  \n",
       "191 -0.039493  0.010227  \n",
       "\n",
       "[353 rows x 9 columns]"
      ]
     },
     "execution_count": 25,
     "metadata": {},
     "output_type": "execute_result"
    }
   ],
   "source": [
    "from sklearn.model_selection import train_test_split\n",
    "\n",
    "#Create Train and Test Data\n",
    "X_train, X_test, y_train, y_test = train_test_split(X, y, test_size =0.2)\n",
    "X_train\n"
   ]
  },
  {
   "cell_type": "code",
   "execution_count": null,
   "id": "6273effe",
   "metadata": {},
   "outputs": [
    {
     "data": {
      "text/plain": [
       "array([ 0.1111405 ,  0.07205313,  0.13260472,  0.1792906 , -0.09788903,\n",
       "        0.0979084 ,  0.1421923 ,  0.20364067,  0.22372863])"
      ]
     },
     "execution_count": 46,
     "metadata": {},
     "output_type": "execute_result"
    }
   ],
   "source": [
    "from sklearn.linear_model import LinearRegression\n",
    "\n",
    "linear_regression_model = LinearRegression()\n",
    "\n",
    "linear_regression_model.fit(X_train, y_train)\n",
    "linear_regression_model.coef_"
   ]
  },
  {
   "cell_type": "code",
   "execution_count": 47,
   "id": "7e39a5cb",
   "metadata": {},
   "outputs": [
    {
     "data": {
      "text/plain": [
       "array([-0.00939488, -0.02310001,  0.00792411, -0.03085546,  0.00340231,\n",
       "       -0.02489565,  0.00363392,  0.01843653,  0.03183434,  0.01501826,\n",
       "       -0.01582444,  0.04743079, -0.02873747, -0.04499984, -0.04070959,\n",
       "       -0.05164609, -0.00163362, -0.03505617,  0.01960012,  0.04594337,\n",
       "       -0.01878528, -0.0031128 , -0.0010628 ,  0.01639183,  0.00040603,\n",
       "       -0.02353897, -0.01464305,  0.02256653, -0.01253786,  0.05553948,\n",
       "       -0.02644087,  0.05597653, -0.00839208, -0.01751697,  0.05209828,\n",
       "       -0.0007914 , -0.0164434 ,  0.00284953, -0.00658406,  0.05787633,\n",
       "        0.05266702,  0.02300448, -0.00440454, -0.00965241,  0.03656522,\n",
       "        0.03724713,  0.01103446,  0.01738675, -0.01470025, -0.0046229 ,\n",
       "       -0.0516696 ,  0.02041891, -0.01084999, -0.02442832,  0.011347  ,\n",
       "        0.04000364, -0.02614953, -0.00921989,  0.01181623,  0.00537123,\n",
       "        0.00026016,  0.00837848, -0.03203932, -0.02642911, -0.01924863,\n",
       "       -0.04032662, -0.01232851, -0.05060281,  0.00738676,  0.01683675,\n",
       "        0.03831091, -0.00640916,  0.01273283,  0.00179739,  0.00314339,\n",
       "        0.03711291, -0.04504453, -0.01867316, -0.0083058 ,  0.04011938,\n",
       "       -0.01676688,  0.04128237,  0.01445386, -0.04612267,  0.03919445,\n",
       "        0.01131593,  0.01243533, -0.04024509,  0.00585286])"
      ]
     },
     "execution_count": 47,
     "metadata": {},
     "output_type": "execute_result"
    }
   ],
   "source": [
    "y_predicted = linear_regression_model.predict(X_test)\n",
    "y_predicted"
   ]
  },
  {
   "cell_type": "code",
   "execution_count": 51,
   "id": "94c0bfb5",
   "metadata": {},
   "outputs": [],
   "source": [
    "# X_test"
   ]
  },
  {
   "cell_type": "code",
   "execution_count": 52,
   "id": "9da4ca9c",
   "metadata": {},
   "outputs": [],
   "source": [
    "# record_243 = X_test.loc[[243]]\n",
    "\n",
    "# y_243_predicted = linear_regression_model.predict(record_243)\n",
    "# y_243_predicted, y_test.loc[243]"
   ]
  },
  {
   "cell_type": "code",
   "execution_count": 53,
   "id": "dc5c48e8",
   "metadata": {},
   "outputs": [],
   "source": [
    "# results = pd.DataFrame({\n",
    "#     \"y_actual\": y_test,\n",
    "#     \"y_predicted\": y_predicted\n",
    "# })\n",
    "\n",
    "# results"
   ]
  },
  {
   "cell_type": "code",
   "execution_count": 54,
   "id": "70e5fc7c",
   "metadata": {},
   "outputs": [
    {
     "data": {
      "text/plain": [
       "(0.027716809557742802, 0.03597483802307687)"
      ]
     },
     "execution_count": 54,
     "metadata": {},
     "output_type": "execute_result"
    }
   ],
   "source": [
    "from sklearn.metrics import mean_absolute_error, root_mean_squared_error\n",
    "mae = mean_absolute_error(y_predicted, y_test)\n",
    "rmse = root_mean_squared_error(y_predicted, y_test)\n",
    "mae, rmse"
   ]
  },
  {
   "cell_type": "code",
   "execution_count": null,
   "id": "320467ce",
   "metadata": {},
   "outputs": [],
   "source": []
  }
 ],
 "metadata": {
  "kernelspec": {
   "display_name": ".venv",
   "language": "python",
   "name": "python3"
  },
  "language_info": {
   "codemirror_mode": {
    "name": "ipython",
    "version": 3
   },
   "file_extension": ".py",
   "mimetype": "text/x-python",
   "name": "python",
   "nbconvert_exporter": "python",
   "pygments_lexer": "ipython3",
   "version": "3.13.5"
  }
 },
 "nbformat": 4,
 "nbformat_minor": 5
}
