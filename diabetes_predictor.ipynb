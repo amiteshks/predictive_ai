{
 "cells": [
  {
   "cell_type": "markdown",
   "id": "e56610bb",
   "metadata": {},
   "source": [
    "## Linear Regression on Diabetes Data / Diabetes Prediction"
   ]
  },
  {
   "cell_type": "markdown",
   "id": "8e90509b",
   "metadata": {},
   "source": []
  },
  {
   "cell_type": "code",
   "execution_count": null,
   "id": "702e8536",
   "metadata": {},
   "outputs": [],
   "source": []
  },
  {
   "cell_type": "code",
   "execution_count": null,
   "id": "3e48bf5d",
   "metadata": {},
   "outputs": [],
   "source": [
    "# pip install scikit-learn pandas\n"
   ]
  },
  {
   "cell_type": "code",
   "execution_count": null,
   "id": "ebebc6fb",
   "metadata": {},
   "outputs": [],
   "source": [
    "import pandas as pd"
   ]
  },
  {
   "cell_type": "code",
   "execution_count": null,
   "id": "11465f91",
   "metadata": {},
   "outputs": [],
   "source": [
    "from sklearn.datasets import load_diabetes\n",
    "diabetes = load_diabetes()\n",
    "\n",
    "df = pd.DataFrame(data=diabetes.data, columns=diabetes.feature_names)"
   ]
  },
  {
   "cell_type": "code",
   "execution_count": null,
   "id": "9c887815",
   "metadata": {},
   "outputs": [],
   "source": [
    "df\n",
    "df.info()\n",
    "df.describe()\n",
    "df.corr()"
   ]
  },
  {
   "cell_type": "code",
   "execution_count": null,
   "id": "7bf01ff0",
   "metadata": {},
   "outputs": [],
   "source": [
    "X = df.drop(columns='s6')\n",
    "y = df['s6']\n",
    "\n",
    "X,y"
   ]
  },
  {
   "cell_type": "code",
   "execution_count": null,
   "id": "50e63c9f",
   "metadata": {},
   "outputs": [],
   "source": [
    "from sklearn.model_selection import train_test_split\n",
    "\n",
    "#Create Train and Test Data\n",
    "X_train, X_test, y_train, y_test = train_test_split(X, y, test_size =0.2)\n",
    "X_train\n"
   ]
  },
  {
   "cell_type": "code",
   "execution_count": null,
   "id": "6273effe",
   "metadata": {},
   "outputs": [],
   "source": [
    "from sklearn.linear_model import LinearRegression\n",
    "\n",
    "lr_model = LinearRegression()\n",
    "\n",
    "lr_model.fit(X_train, y_train)\n",
    "lr_model.coef_"
   ]
  },
  {
   "cell_type": "code",
   "execution_count": null,
   "id": "7e39a5cb",
   "metadata": {},
   "outputs": [],
   "source": [
    "# df['s6'] = (0.1028034) * df['age'] + (0.0517383) * df['sex'] + (0.16770923) * df['bmi'] + ......\n",
    "\n",
    "\n",
    "y_predicted = lr_model.predict(X_test)\n",
    "# y_predicted"
   ]
  },
  {
   "cell_type": "code",
   "execution_count": null,
   "id": "94c0bfb5",
   "metadata": {},
   "outputs": [],
   "source": [
    "# X_test"
   ]
  },
  {
   "cell_type": "code",
   "execution_count": null,
   "id": "70e5fc7c",
   "metadata": {},
   "outputs": [],
   "source": [
    "from sklearn.metrics import mean_absolute_error, root_mean_squared_error, mean_squared_error, r2_score\n",
    "\n",
    "\n",
    "lr_mae = mean_absolute_error(y_predicted, y_test)\n",
    "lr_mse = mean_squared_error(y_predicted, y_test)\n",
    "lr_rmse = root_mean_squared_error(y_predicted, y_test)\n",
    "\n",
    "\n",
    "\n",
    "lr_mae, lr_mse, lr_rmse"
   ]
  },
  {
   "cell_type": "markdown",
   "id": "ef6d3403",
   "metadata": {},
   "source": [
    "## Create & Train Model\n",
    "model = LinearRegression()\n",
    "model.fit(X_train, y_train)\n",
    "\n",
    "## Predict\n",
    "y_predicted = model.predict(X_test)\n",
    "\n",
    "## Evaluate Model Performance\n",
    "MAE\n",
    "MSE\n",
    "RMSE = root_mean_squared_error(y_predicted, y_test)\t"
   ]
  },
  {
   "cell_type": "code",
   "execution_count": null,
   "id": "b97a3030",
   "metadata": {},
   "outputs": [],
   "source": [
    "#Lasso\n",
    "from sklearn.linear_model import Ridge\n",
    "\n",
    "ridge_model = Ridge(alpha = 0.1)\n",
    "\n",
    "ridge_model.fit(X_train, y_train)\n",
    "ridge_model.coef_"
   ]
  },
  {
   "cell_type": "code",
   "execution_count": null,
   "id": "d68e6733",
   "metadata": {},
   "outputs": [],
   "source": [
    "y_predicted = ridge_model.predict(X_test)\n",
    "y_predicted"
   ]
  },
  {
   "cell_type": "code",
   "execution_count": null,
   "id": "c4d6c066",
   "metadata": {},
   "outputs": [],
   "source": [
    "ridge_mae = mean_absolute_error(y_predicted, y_test)\n",
    "ridge_mse = mean_squared_error(y_predicted, y_test)\n",
    "ridge_rmse = root_mean_squared_error(y_predicted, y_test)\n",
    "\n",
    "\n",
    "\n",
    "ridge_mae, ridge_mse, ridge_rmse"
   ]
  },
  {
   "cell_type": "code",
   "execution_count": null,
   "id": "53dac693",
   "metadata": {},
   "outputs": [],
   "source": []
  }
 ],
 "metadata": {
  "kernelspec": {
   "display_name": ".venv",
   "language": "python",
   "name": "python3"
  },
  "language_info": {
   "codemirror_mode": {
    "name": "ipython",
    "version": 3
   },
   "file_extension": ".py",
   "mimetype": "text/x-python",
   "name": "python",
   "nbconvert_exporter": "python",
   "pygments_lexer": "ipython3",
   "version": "3.13.5"
  }
 },
 "nbformat": 4,
 "nbformat_minor": 5
}
